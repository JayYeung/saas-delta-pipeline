{
 "cells": [
  {
   "cell_type": "code",
   "execution_count": 2,
   "metadata": {},
   "outputs": [],
   "source": [
    "import os\n",
    "import cv2\n",
    "import base64\n",
    "\n",
    "def extract_frames(video_path, output_folder, interval=30):\n",
    "    if not os.path.exists(output_folder):\n",
    "        os.makedirs(output_folder)\n",
    "\n",
    "    video_capture = cv2.VideoCapture(video_path)\n",
    "    frame_count = 0\n",
    "    extracted_frames = []\n",
    "\n",
    "    while video_capture.isOpened():\n",
    "        ret, frame = video_capture.read()\n",
    "        if not ret:\n",
    "            break\n",
    "\n",
    "        if frame_count % interval == 0:\n",
    "            frame_filename = os.path.join(output_folder, f\"frame_{frame_count}.jpg\")\n",
    "            cv2.imwrite(frame_filename, frame)\n",
    "            extracted_frames.append(frame_filename)\n",
    "\n",
    "        frame_count += 1\n",
    "\n",
    "    video_capture.release()\n",
    "    return extracted_frames\n",
    "\n",
    "def encode_image_to_base64(image_path):\n",
    "    with open(image_path, \"rb\") as image_file:\n",
    "        return base64.b64encode(image_file.read()).decode('utf-8')\n",
    "\n",
    "def query_model(video_path, prompt):\n",
    "    frames = extract_frames(video_path, output_folder)\n",
    "    batch_size = 8\n",
    "    responses = []\n",
    "    for i in range(0, len(frames), batch_size):\n",
    "        batch = frames[i:i + batch_size]\n",
    "\n",
    "        contents = [{\n",
    "            \"type\": \"text\",\n",
    "            \"text\": prompt,\n",
    "        }]\n",
    "\n",
    "        for frame_path in batch:\n",
    "            encoded_image = encode_image_to_base64(frame_path)\n",
    "            contents.append({\n",
    "                \"type\": \"image_url\",\n",
    "                \"image_url\": f\"data:image/jpeg;base64,{encoded_image}\"\n",
    "            })\n",
    "\n",
    "        messages = [\n",
    "            {\n",
    "                \"role\": \"user\",\n",
    "                \"content\": contents\n",
    "            }\n",
    "        ]\n",
    "\n",
    "        response = client.chat.complete(model=model, messages=messages)\n",
    "        responses.append(response.choices[0].message.content)\n",
    "\n",
    "        summary_prompt = \"Summarize the following into one concise paragraph:\\n\\n\" + \" \".join(responses)\n",
    "        summary_response = client.chat.complete(model=model, messages=[{\"role\": \"user\", \"content\": [{\"type\": \"text\", \"text\": summary_prompt}]}])\n",
    "\n",
    "    return summary_response.choices[0].message.content  # Merge all responses"
   ]
  },
  {
   "cell_type": "code",
   "execution_count": null,
   "metadata": {},
   "outputs": [
    {
     "data": {
      "text/plain": [
       "'The series of images depicts a user navigating Delta\\'s learning management system to access and complete an online course titled \"Fire Extinguisher Safety.\" The course, identified by the code AFRE100, educates users on the proper use and safety measures related to fire extinguishers. Key sections include an introduction, navigation guide, objectives, different types of fire extinguishers, and specific guidelines for Delta and Delta Connection Carriers. Users learn how to identify various types of fire extinguishers, use them correctly, and respond to fires, particularly in ramp and aircraft scenarios. The course includes interactive elements such as quizzes and visual aids to enhance learning and ensure comprehension, culminating in an assessment to verify understanding.'"
      ]
     },
     "execution_count": 5,
     "metadata": {},
     "output_type": "execute_result"
    }
   ],
   "source": [
    "from mistralai import Mistral\n",
    "\n",
    "MISTRAL_API_KEY =  \"REDACTED\"\n",
    "model = \"pixtral-12b-2409\"\n",
    "output_folder = 'extracted_frames'\n",
    "\n",
    "client = Mistral(api_key=MISTRAL_API_KEY)\n",
    "model = \"pixtral-12b-2409\"\n",
    "\n",
    "video_path = 'resources/Fire Extinguisher Safety - AFIRE100.mp4'\n",
    "prompt = '''Summarize what this video is about including skills you'll learn etc.'''\n",
    "\n",
    "response = query_model(video_path, prompt)\n",
    "response"
   ]
  }
 ],
 "metadata": {
  "kernelspec": {
   "display_name": "env",
   "language": "python",
   "name": "python3"
  },
  "language_info": {
   "codemirror_mode": {
    "name": "ipython",
    "version": 3
   },
   "file_extension": ".py",
   "mimetype": "text/x-python",
   "name": "python",
   "nbconvert_exporter": "python",
   "pygments_lexer": "ipython3",
   "version": "3.10.14"
  }
 },
 "nbformat": 4,
 "nbformat_minor": 2
}
