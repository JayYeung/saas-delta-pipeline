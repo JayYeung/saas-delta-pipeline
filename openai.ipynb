{
 "cells": [
  {
   "cell_type": "code",
   "execution_count": 1,
   "metadata": {},
   "outputs": [],
   "source": [
    "import cv2  \n",
    "import base64\n",
    "from openai import OpenAI\n",
    "\n",
    "client = OpenAI(api_key='sk-REDACTED')\n",
    "\n",
    "def query_model(video_path, prompt):\n",
    "    video = cv2.VideoCapture(video_path)\n",
    "    \n",
    "    base64Frames = []\n",
    "    while video.isOpened():\n",
    "        success, frame = video.read()\n",
    "        if not success:\n",
    "            break\n",
    "        _, buffer = cv2.imencode(\".jpg\", frame)\n",
    "        base64Frames.append(base64.b64encode(buffer).decode(\"utf-8\"))\n",
    "\n",
    "    PROMPT_MESSAGES = [\n",
    "        {\n",
    "            \"role\": \"user\",\n",
    "            \"content\": [\n",
    "                prompt,\n",
    "                *map(lambda x: {\"image\": x, \"resize\": 768}, base64Frames[0::100000]),\n",
    "            ],\n",
    "            'detail': 'high',\n",
    "        },\n",
    "    ]\n",
    "    params = {\n",
    "        \"model\": \"gpt-4o-mini\",\n",
    "        \"messages\": PROMPT_MESSAGES,\n",
    "    }\n",
    "\n",
    "    result = client.chat.completions.create(**params)\n",
    "    return result.choices[0].message.content"
   ]
  },
  {
   "cell_type": "code",
   "execution_count": 2,
   "metadata": {},
   "outputs": [
    {
     "data": {
      "text/plain": [
       "'The video showcases a learning management system interface, specifically focusing on a training module related to fire safety. It demonstrates how to search for and access a course titled \"Fire Extinguisher Safety\" (code: AFIRE100) within the Delta library. The course is categorized as free, and users are prompted to start the course from the available options. The overall aim is to provide safety training specifically about using fire extinguishers.'"
      ]
     },
     "execution_count": 2,
     "metadata": {},
     "output_type": "execute_result"
    }
   ],
   "source": [
    "prompt = '''\n",
    "summarize video\n",
    "'''\n",
    "\n",
    "video_path = '/Users/chipwy/Dev/saas-delta/resources/videos/Fire Extinguisher Safety - AFIRE100.mp4'\n",
    "response = query_model(video_path, prompt)\n",
    "response\n"
   ]
  },
  {
   "cell_type": "code",
   "execution_count": null,
   "metadata": {},
   "outputs": [],
   "source": []
  }
 ],
 "metadata": {
  "kernelspec": {
   "display_name": "base",
   "language": "python",
   "name": "python3"
  },
  "language_info": {
   "codemirror_mode": {
    "name": "ipython",
    "version": 3
   },
   "file_extension": ".py",
   "mimetype": "text/x-python",
   "name": "python",
   "nbconvert_exporter": "python",
   "pygments_lexer": "ipython3",
   "version": "3.10.14"
  },
  "orig_nbformat": 4
 },
 "nbformat": 4,
 "nbformat_minor": 2
}
